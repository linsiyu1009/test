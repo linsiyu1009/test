{
 "cells": [
  {
   "cell_type": "raw",
   "metadata": {},
   "source": [
    "step 1:把这个项目从gitlab上cope 到 faculty上\n",
    "command--> git clone https://gitlab.com/recommend.games/board-game-scraper.git\n",
    "\n",
    "step 2: 创建虚拟的python环境 【这一步就算不做也不会影响下面的步骤，因为faculty默认环境好像就是python3】\n",
    "python3 -m pip install --upgrade pipenv\n",
    "pipenv install --dev\n",
    "pipenv shell\n",
    "\n",
    "step3：\n",
    "pip install board-game-scraper\n",
    "\n",
    "step 4:\n",
    "cd board-game-scraper\n",
    "\n",
    "step 5： run the following commands #(也可以选择其他的spider，比如bga/luding/...）\n",
    "SPIDER=bgg \n",
    "JOBDIR=\"jobs/${SPIDER}/$(date --utc +'%Y-%m-%dT%H-%M-%S')\"\n",
    "scrapy crawl \"${SPIDER}\" \\\n",
    "    --output 'feeds/%(name)s/%(time)s/%(class)s.csv' \\\n",
    "    --set \"JOBDIR=${JOBDIR}\"\n",
    "    \n",
    "step 6: it takes time to scrapy,wait a few minutes\n",
    "then in the folder board-game-scraper> feeds >bgg > 2021-03-06T03-36-43 list the csv files\n",
    "\n",
    "PS: 这个project用的爬虫框架是 scrapy\n",
    "包含了这些文件\n",
    "scrapy.cfg: 项目的配置文件。\n",
    "mySpider/: 项目的Python模块，将会从这里引用代码。\n",
    "mySpider/items.py: 项目的目标文件。\n",
    "mySpider/pipelines.py: 项目的管道文件。\n",
    "mySpider/settings.py: 项目的设置文件。\n",
    "mySpider/spiders/: 存储爬虫代码目录。\n",
    "find more info on ：https://www.runoob.com/w3cnote/scrapy-detail.html"
   ]
  },
  {
   "cell_type": "markdown",
   "metadata": {},
   "source": []
  }
 ],
 "metadata": {
  "kernelspec": {
   "display_name": "Python [conda env:Python3] *",
   "language": "python",
   "name": "conda-env-Python3-py"
  },
  "language_info": {
   "codemirror_mode": {
    "name": "ipython",
    "version": 3
   },
   "file_extension": ".py",
   "mimetype": "text/x-python",
   "name": "python",
   "nbconvert_exporter": "python",
   "pygments_lexer": "ipython3",
   "version": "3.8.3"
  }
 },
 "nbformat": 4,
 "nbformat_minor": 2
}
